{
  "nbformat": 4,
  "nbformat_minor": 0,
  "metadata": {
    "colab": {
      "provenance": []
    },
    "kernelspec": {
      "name": "python3",
      "display_name": "Python 3"
    },
    "language_info": {
      "name": "python"
    }
  },
  "cells": [
    {
      "cell_type": "code",
      "execution_count": null,
      "metadata": {
        "id": "UzsljQ2hpIte"
      },
      "outputs": [],
      "source": [
        "import requests\n",
        "from bs4 import BeautifulSoup as bs"
      ]
    },
    {
      "cell_type": "code",
      "source": [
        "url = 'http://books.toscrape.com/'\n",
        "\n",
        "response = requests.get(url)\n",
        "response"
      ],
      "metadata": {
        "colab": {
          "base_uri": "https://localhost:8080/"
        },
        "id": "KINpXLRPpQMC",
        "outputId": "2c409ffa-9fef-4ac5-b398-8253b49057b9"
      },
      "execution_count": null,
      "outputs": [
        {
          "output_type": "execute_result",
          "data": {
            "text/plain": [
              "<Response [200]>"
            ]
          },
          "metadata": {},
          "execution_count": 2
        }
      ]
    },
    {
      "cell_type": "code",
      "source": [
        "soup = bs(response.content, 'html.parser')\n",
        "type(soup)"
      ],
      "metadata": {
        "colab": {
          "base_uri": "https://localhost:8080/"
        },
        "id": "iqWMd0__pjfR",
        "outputId": "a76322c4-e6d9-40f0-95f5-fab90a228a8d"
      },
      "execution_count": null,
      "outputs": [
        {
          "output_type": "execute_result",
          "data": {
            "text/plain": [
              "bs4.BeautifulSoup"
            ]
          },
          "metadata": {},
          "execution_count": 3
        }
      ]
    },
    {
      "cell_type": "code",
      "source": [
        "soup.find('title').text"
      ],
      "metadata": {
        "colab": {
          "base_uri": "https://localhost:8080/",
          "height": 35
        },
        "id": "weaUPKT_pVME",
        "outputId": "f076c622-9574-4e78-a724-5180fb1ffd4b"
      },
      "execution_count": null,
      "outputs": [
        {
          "output_type": "execute_result",
          "data": {
            "text/plain": [
              "'\\n    All products | Books to Scrape - Sandbox\\n'"
            ],
            "application/vnd.google.colaboratory.intrinsic+json": {
              "type": "string"
            }
          },
          "metadata": {},
          "execution_count": 4
        }
      ]
    },
    {
      "cell_type": "code",
      "source": [
        "books_tag = soup.find_all('article',class_='product_pod')"
      ],
      "metadata": {
        "id": "Nmdi2e9IpmVZ"
      },
      "execution_count": null,
      "outputs": []
    },
    {
      "cell_type": "markdown",
      "source": [
        "# Book 1"
      ],
      "metadata": {
        "id": "pONUogudxQMg"
      }
    },
    {
      "cell_type": "code",
      "source": [
        "book = soup.select('.product_pod')[0]\n",
        "print(book)"
      ],
      "metadata": {
        "colab": {
          "base_uri": "https://localhost:8080/"
        },
        "id": "MPGkUFUwpuN5",
        "outputId": "23887bc2-08d7-466c-97e7-3b15ef2ca781"
      },
      "execution_count": null,
      "outputs": [
        {
          "output_type": "stream",
          "name": "stdout",
          "text": [
            "<article class=\"product_pod\">\n",
            "<div class=\"image_container\">\n",
            "<a href=\"catalogue/a-light-in-the-attic_1000/index.html\"><img alt=\"A Light in the Attic\" class=\"thumbnail\" src=\"media/cache/2c/da/2cdad67c44b002e7ead0cc35693c0e8b.jpg\"/></a>\n",
            "</div>\n",
            "<p class=\"star-rating Three\">\n",
            "<i class=\"icon-star\"></i>\n",
            "<i class=\"icon-star\"></i>\n",
            "<i class=\"icon-star\"></i>\n",
            "<i class=\"icon-star\"></i>\n",
            "<i class=\"icon-star\"></i>\n",
            "</p>\n",
            "<h3><a href=\"catalogue/a-light-in-the-attic_1000/index.html\" title=\"A Light in the Attic\">A Light in the ...</a></h3>\n",
            "<div class=\"product_price\">\n",
            "<p class=\"price_color\">£51.77</p>\n",
            "<p class=\"instock availability\">\n",
            "<i class=\"icon-ok\"></i>\n",
            "    \n",
            "        In stock\n",
            "    \n",
            "</p>\n",
            "<form>\n",
            "<button class=\"btn btn-primary btn-block\" data-loading-text=\"Adding...\" type=\"submit\">Add to basket</button>\n",
            "</form>\n",
            "</div>\n",
            "</article>\n"
          ]
        }
      ]
    },
    {
      "cell_type": "code",
      "source": [
        "title_tag = book.find('a',title=True)\n",
        "title_tag['title']"
      ],
      "metadata": {
        "colab": {
          "base_uri": "https://localhost:8080/",
          "height": 35
        },
        "id": "9LQTHg3zp4GQ",
        "outputId": "37454924-79e9-4c29-f780-582b8a3ca158"
      },
      "execution_count": null,
      "outputs": [
        {
          "output_type": "execute_result",
          "data": {
            "text/plain": [
              "'A Light in the Attic'"
            ],
            "application/vnd.google.colaboratory.intrinsic+json": {
              "type": "string"
            }
          },
          "metadata": {},
          "execution_count": 7
        }
      ]
    },
    {
      "cell_type": "code",
      "source": [
        "rating = book.find('p')['class'][1]\n",
        "print(rating)"
      ],
      "metadata": {
        "colab": {
          "base_uri": "https://localhost:8080/"
        },
        "id": "KmqJHx0lsCya",
        "outputId": "1394f707-ba97-4048-917f-ae1999ca3955"
      },
      "execution_count": null,
      "outputs": [
        {
          "output_type": "stream",
          "name": "stdout",
          "text": [
            "Three\n"
          ]
        }
      ]
    },
    {
      "cell_type": "code",
      "source": [
        "first_book_link = book.find('h3').find('a')['href']\n",
        "print(url+first_book_link)"
      ],
      "metadata": {
        "colab": {
          "base_uri": "https://localhost:8080/"
        },
        "id": "iXBGZPGpuTP9",
        "outputId": "345274fa-de73-4a57-d139-181115e581fc"
      },
      "execution_count": null,
      "outputs": [
        {
          "output_type": "stream",
          "name": "stdout",
          "text": [
            "http://books.toscrape.com/catalogue/a-light-in-the-attic_1000/index.html\n"
          ]
        }
      ]
    },
    {
      "cell_type": "code",
      "source": [
        "price= soup.select_one('p.price_color').text\n",
        "print(price)"
      ],
      "metadata": {
        "colab": {
          "base_uri": "https://localhost:8080/"
        },
        "id": "NRfmCLkKy9Xv",
        "outputId": "0f2375ca-1f83-4d8c-cbc2-e2e0c9db9810"
      },
      "execution_count": null,
      "outputs": [
        {
          "output_type": "stream",
          "name": "stdout",
          "text": [
            "£51.77\n"
          ]
        }
      ]
    },
    {
      "cell_type": "markdown",
      "source": [
        "# Book 2"
      ],
      "metadata": {
        "id": "1OeOY8Gb0nsi"
      }
    },
    {
      "cell_type": "code",
      "source": [
        "book = soup.select('.product_pod')[1]\n",
        "print(book)"
      ],
      "metadata": {
        "colab": {
          "base_uri": "https://localhost:8080/"
        },
        "outputId": "a3577729-885b-4998-e3c0-f83eda2a5f80",
        "id": "WRszSjSk0nsj"
      },
      "execution_count": null,
      "outputs": [
        {
          "output_type": "stream",
          "name": "stdout",
          "text": [
            "<article class=\"product_pod\">\n",
            "<div class=\"image_container\">\n",
            "<a href=\"catalogue/tipping-the-velvet_999/index.html\"><img alt=\"Tipping the Velvet\" class=\"thumbnail\" src=\"media/cache/26/0c/260c6ae16bce31c8f8c95daddd9f4a1c.jpg\"/></a>\n",
            "</div>\n",
            "<p class=\"star-rating One\">\n",
            "<i class=\"icon-star\"></i>\n",
            "<i class=\"icon-star\"></i>\n",
            "<i class=\"icon-star\"></i>\n",
            "<i class=\"icon-star\"></i>\n",
            "<i class=\"icon-star\"></i>\n",
            "</p>\n",
            "<h3><a href=\"catalogue/tipping-the-velvet_999/index.html\" title=\"Tipping the Velvet\">Tipping the Velvet</a></h3>\n",
            "<div class=\"product_price\">\n",
            "<p class=\"price_color\">£53.74</p>\n",
            "<p class=\"instock availability\">\n",
            "<i class=\"icon-ok\"></i>\n",
            "    \n",
            "        In stock\n",
            "    \n",
            "</p>\n",
            "<form>\n",
            "<button class=\"btn btn-primary btn-block\" data-loading-text=\"Adding...\" type=\"submit\">Add to basket</button>\n",
            "</form>\n",
            "</div>\n",
            "</article>\n"
          ]
        }
      ]
    },
    {
      "cell_type": "code",
      "source": [
        "title_tag = book.find('a',title=True)\n",
        "title_tag['title']"
      ],
      "metadata": {
        "colab": {
          "base_uri": "https://localhost:8080/",
          "height": 35
        },
        "outputId": "c7f30ea8-3b36-43ec-8930-3552fff66865",
        "id": "sHNGN7wi0nsl"
      },
      "execution_count": null,
      "outputs": [
        {
          "output_type": "execute_result",
          "data": {
            "text/plain": [
              "'Tipping the Velvet'"
            ],
            "application/vnd.google.colaboratory.intrinsic+json": {
              "type": "string"
            }
          },
          "metadata": {},
          "execution_count": 12
        }
      ]
    },
    {
      "cell_type": "code",
      "source": [
        "rating = book.find('p')['class'][1]\n",
        "print(rating)"
      ],
      "metadata": {
        "colab": {
          "base_uri": "https://localhost:8080/"
        },
        "outputId": "06c8a473-2300-405a-bd3d-040731e8f3ae",
        "id": "Cg-HRU4-0nsl"
      },
      "execution_count": null,
      "outputs": [
        {
          "output_type": "stream",
          "name": "stdout",
          "text": [
            "One\n"
          ]
        }
      ]
    },
    {
      "cell_type": "code",
      "source": [
        "second_book_link = book.find('h3').find('a')['href']\n",
        "print(url+second_book_link)"
      ],
      "metadata": {
        "colab": {
          "base_uri": "https://localhost:8080/"
        },
        "id": "iErwKp1l15EV",
        "outputId": "cce3913e-9f16-4cf4-825f-3f6bb8a2440e"
      },
      "execution_count": null,
      "outputs": [
        {
          "output_type": "stream",
          "name": "stdout",
          "text": [
            "http://books.toscrape.com/catalogue/tipping-the-velvet_999/index.html\n"
          ]
        }
      ]
    },
    {
      "cell_type": "code",
      "source": [
        "\n",
        "price = book.select('p.price_color')[0].text\n",
        "print(price)\n"
      ],
      "metadata": {
        "colab": {
          "base_uri": "https://localhost:8080/"
        },
        "id": "9b079wrF209u",
        "outputId": "84b47032-961b-440e-affc-6dd219e4f054"
      },
      "execution_count": null,
      "outputs": [
        {
          "output_type": "stream",
          "name": "stdout",
          "text": [
            "£53.74\n"
          ]
        }
      ]
    },
    {
      "cell_type": "markdown",
      "source": [
        "# Function to print title of the books"
      ],
      "metadata": {
        "id": "I5OaqphF6GHA"
      }
    },
    {
      "cell_type": "code",
      "source": [
        "# List of URLs\n",
        "urls = [\n",
        "    'http://books.toscrape.com/',\n",
        "    'http://books.toscrape.com/catalogue/page-2.html',\n",
        "    'http://books.toscrape.com/catalogue/page-3.html',\n",
        "    'http://books.toscrape.com/catalogue/page-4.html',\n",
        "    'http://books.toscrape.com/catalogue/page-5.html',\n",
        "    'http://books.toscrape.com/catalogue/page-6.html'\n",
        "\n",
        "]"
      ],
      "metadata": {
        "id": "iAKQYoVIvOGv"
      },
      "execution_count": null,
      "outputs": []
    },
    {
      "cell_type": "code",
      "source": [
        "import requests\n",
        "from bs4 import BeautifulSoup as bs\n",
        "import pandas as pd\n",
        "\n",
        "def get_book_title(url):\n",
        "    response = requests.get(url)\n",
        "    soup = bs(response.content, 'html.parser')\n",
        "\n",
        "    # Assuming book titles are within h3 tags\n",
        "    book_title = [title['title'] for title in soup.select('h3 a')]\n",
        "\n",
        "    return book_title\n",
        "\n",
        "\n",
        "# Collect book titles for each URL\n",
        "all_book_title = []\n",
        "for url in urls:\n",
        "    titles = get_book_title(url)\n",
        "    all_book_title.extend(titles)\n",
        "\n",
        "# Convert titles into a DataFrame\n",
        "df = pd.DataFrame({'Book Title': all_book_title})\n",
        "\n",
        "# Print the DataFrame\n",
        "print(df)\n"
      ],
      "metadata": {
        "colab": {
          "base_uri": "https://localhost:8080/"
        },
        "id": "K5MI1xuSw7Dt",
        "outputId": "12703b7b-54b0-4258-a57b-36bee3abf8ff"
      },
      "execution_count": null,
      "outputs": [
        {
          "output_type": "stream",
          "name": "stdout",
          "text": [
            "                                            Book Title\n",
            "0                                 A Light in the Attic\n",
            "1                                   Tipping the Velvet\n",
            "2                                           Soumission\n",
            "3                                        Sharp Objects\n",
            "4                Sapiens: A Brief History of Humankind\n",
            "..                                                 ...\n",
            "115  Call the Nurse: True Stories of a Country Nurs...\n",
            "116                                            Burning\n",
            "117                                         Bossypants\n",
            "118  Bitch Planet, Vol. 1: Extraordinary Machine (B...\n",
            "119  Avatar: The Last Airbender: Smoke and Shadow, ...\n",
            "\n",
            "[120 rows x 1 columns]\n"
          ]
        }
      ]
    },
    {
      "cell_type": "markdown",
      "source": [
        "# Function to Print Book Price"
      ],
      "metadata": {
        "id": "XIj2x77yq6hp"
      }
    },
    {
      "cell_type": "code",
      "source": [
        "import requests\n",
        "from bs4 import BeautifulSoup as bs\n",
        "\n",
        "def get_book_price(url):\n",
        "    response = requests.get(url)\n",
        "    soup = bs(response.content, 'html.parser')\n",
        "\n",
        "    # Extract prices from the current page\n",
        "    book_price = [price.text for price in soup.select('p.price_color')]\n",
        "\n",
        "    return book_price\n",
        "# Collect book titles for each URL\n",
        "all_book_price = []\n",
        "for url in urls:\n",
        "    price = get_book_price(url)\n",
        "    all_book_price.extend(price)\n",
        "\n",
        "# Convert titles into a DataFrame\n",
        "df = pd.DataFrame({'Book Price': all_book_price})\n",
        "\n",
        "# Print the DataFrame\n",
        "print(df)\n"
      ],
      "metadata": {
        "colab": {
          "base_uri": "https://localhost:8080/"
        },
        "id": "ZYlv8KuBAXI9",
        "outputId": "300c9202-40d8-43fc-b970-85ae27e890f2"
      },
      "execution_count": null,
      "outputs": [
        {
          "output_type": "stream",
          "name": "stdout",
          "text": [
            "    Book Price\n",
            "0       £51.77\n",
            "1       £53.74\n",
            "2       £50.10\n",
            "3       £47.82\n",
            "4       £54.23\n",
            "..         ...\n",
            "115     £29.14\n",
            "116     £28.81\n",
            "117     £49.46\n",
            "118     £37.92\n",
            "119     £28.09\n",
            "\n",
            "[120 rows x 1 columns]\n"
          ]
        }
      ]
    },
    {
      "cell_type": "markdown",
      "source": [
        "# Function to Print Book Rating"
      ],
      "metadata": {
        "id": "mZHIWH7NrcjZ"
      }
    },
    {
      "cell_type": "code",
      "source": [
        "import requests\n",
        "from bs4 import BeautifulSoup as bs\n",
        "import pandas as pd\n",
        "\n",
        "def get_book_rating(url):\n",
        "    response = requests.get(url)\n",
        "    soup = bs(response.content, 'html.parser')\n",
        "\n",
        "    # Extract ratings from the current page\n",
        "    book_rating = [span['class'][1] for span in soup.select('p.star-rating')]\n",
        "\n",
        "    return book_rating\n",
        "# Collect book rating for each URL\n",
        "all_book_rating = []\n",
        "for url in urls:\n",
        "    rating = get_book_rating(url)\n",
        "    all_book_rating.extend(rating)\n",
        "\n",
        "# Convert rating into a DataFrame\n",
        "df = pd.DataFrame({'Book Rating': all_book_rating})\n",
        "\n",
        "# Print the DataFrame\n",
        "print(df)\n"
      ],
      "metadata": {
        "colab": {
          "base_uri": "https://localhost:8080/"
        },
        "id": "dG-ZPduIibJ-",
        "outputId": "78635469-c975-4b49-f407-e5b44d1bf9e2"
      },
      "execution_count": null,
      "outputs": [
        {
          "output_type": "stream",
          "name": "stdout",
          "text": [
            "    Book Rating\n",
            "0         Three\n",
            "1           One\n",
            "2           One\n",
            "3          Four\n",
            "4          Five\n",
            "..          ...\n",
            "115        Five\n",
            "116       Three\n",
            "117         Two\n",
            "118         Two\n",
            "119         Two\n",
            "\n",
            "[120 rows x 1 columns]\n"
          ]
        }
      ]
    },
    {
      "cell_type": "markdown",
      "source": [
        "# Function to Print Book Link"
      ],
      "metadata": {
        "id": "Ql3IpovprQHZ"
      }
    },
    {
      "cell_type": "code",
      "source": [
        "import requests\n",
        "from bs4 import BeautifulSoup as bs\n",
        "import pandas as pd\n",
        "\n",
        "def get_book_link(url):\n",
        "    response = requests.get(url)\n",
        "    soup = bs(response.content, 'html.parser')\n",
        "\n",
        "    # Extract links from the current page\n",
        "    book_link = [url + link['href'] for link in soup.select('h3 a')]\n",
        "\n",
        "    return book_link\n",
        "\n",
        "# Collect book link for each URL\n",
        "all_book_link = []\n",
        "for url in urls:\n",
        "    link = get_book_link(url)\n",
        "    all_book_link.extend(link)\n",
        "\n",
        "# Convert titles into a DataFrame\n",
        "df = pd.DataFrame({'Book Link': all_book_link})\n",
        "\n",
        "# Print the DataFrame\n",
        "print(df)"
      ],
      "metadata": {
        "colab": {
          "base_uri": "https://localhost:8080/"
        },
        "id": "Na-7QbrveD8q",
        "outputId": "35a5b89a-5072-4586-b3b7-5023d5828905"
      },
      "execution_count": null,
      "outputs": [
        {
          "output_type": "stream",
          "name": "stdout",
          "text": [
            "                                             Book Link\n",
            "0    http://books.toscrape.com/catalogue/a-light-in...\n",
            "1    http://books.toscrape.com/catalogue/tipping-th...\n",
            "2    http://books.toscrape.com/catalogue/soumission...\n",
            "3    http://books.toscrape.com/catalogue/sharp-obje...\n",
            "4    http://books.toscrape.com/catalogue/sapiens-a-...\n",
            "..                                                 ...\n",
            "115  http://books.toscrape.com/catalogue/page-6.htm...\n",
            "116  http://books.toscrape.com/catalogue/page-6.htm...\n",
            "117  http://books.toscrape.com/catalogue/page-6.htm...\n",
            "118  http://books.toscrape.com/catalogue/page-6.htm...\n",
            "119  http://books.toscrape.com/catalogue/page-6.htm...\n",
            "\n",
            "[120 rows x 1 columns]\n"
          ]
        }
      ]
    },
    {
      "cell_type": "markdown",
      "source": [
        "# Data Set"
      ],
      "metadata": {
        "id": "3ACzGogxsEEG"
      }
    },
    {
      "cell_type": "code",
      "source": [
        "df = pd.DataFrame({ ' Title': all_book_title,' Price': all_book_price,' Rating': all_book_rating,' Link': all_book_link})\n",
        "\n",
        "# Print the DataFrame\n",
        "print(df)\n"
      ],
      "metadata": {
        "colab": {
          "base_uri": "https://localhost:8080/"
        },
        "id": "oozgYGaYjF7d",
        "outputId": "b79b190a-0996-4f9b-f445-3a0b93610888"
      },
      "execution_count": null,
      "outputs": [
        {
          "output_type": "stream",
          "name": "stdout",
          "text": [
            "                                                 Title   Price  Rating  \\\n",
            "0                                 A Light in the Attic  £51.77   Three   \n",
            "1                                   Tipping the Velvet  £53.74     One   \n",
            "2                                           Soumission  £50.10     One   \n",
            "3                                        Sharp Objects  £47.82    Four   \n",
            "4                Sapiens: A Brief History of Humankind  £54.23    Five   \n",
            "..                                                 ...     ...     ...   \n",
            "115  Call the Nurse: True Stories of a Country Nurs...  £29.14    Five   \n",
            "116                                            Burning  £28.81   Three   \n",
            "117                                         Bossypants  £49.46     Two   \n",
            "118  Bitch Planet, Vol. 1: Extraordinary Machine (B...  £37.92     Two   \n",
            "119  Avatar: The Last Airbender: Smoke and Shadow, ...  £28.09     Two   \n",
            "\n",
            "                                                  Link  \n",
            "0    http://books.toscrape.com/catalogue/a-light-in...  \n",
            "1    http://books.toscrape.com/catalogue/tipping-th...  \n",
            "2    http://books.toscrape.com/catalogue/soumission...  \n",
            "3    http://books.toscrape.com/catalogue/sharp-obje...  \n",
            "4    http://books.toscrape.com/catalogue/sapiens-a-...  \n",
            "..                                                 ...  \n",
            "115  http://books.toscrape.com/catalogue/page-6.htm...  \n",
            "116  http://books.toscrape.com/catalogue/page-6.htm...  \n",
            "117  http://books.toscrape.com/catalogue/page-6.htm...  \n",
            "118  http://books.toscrape.com/catalogue/page-6.htm...  \n",
            "119  http://books.toscrape.com/catalogue/page-6.htm...  \n",
            "\n",
            "[120 rows x 4 columns]\n"
          ]
        }
      ]
    },
    {
      "cell_type": "code",
      "source": [
        "df.head(20)"
      ],
      "metadata": {
        "colab": {
          "base_uri": "https://localhost:8080/",
          "height": 677
        },
        "id": "SVovmaQbqozT",
        "outputId": "8d5e4a50-9217-4095-b355-388c1eae01e1"
      },
      "execution_count": null,
      "outputs": [
        {
          "output_type": "execute_result",
          "data": {
            "text/plain": [
              "                                                Title   Price  Rating  \\\n",
              "0                                A Light in the Attic  £51.77   Three   \n",
              "1                                  Tipping the Velvet  £53.74     One   \n",
              "2                                          Soumission  £50.10     One   \n",
              "3                                       Sharp Objects  £47.82    Four   \n",
              "4               Sapiens: A Brief History of Humankind  £54.23    Five   \n",
              "5                                     The Requiem Red  £22.65     One   \n",
              "6   The Dirty Little Secrets of Getting Your Dream...  £33.34    Four   \n",
              "7   The Coming Woman: A Novel Based on the Life of...  £17.93   Three   \n",
              "8   The Boys in the Boat: Nine Americans and Their...  £22.60    Four   \n",
              "9                                     The Black Maria  £52.15     One   \n",
              "10     Starving Hearts (Triangular Trade Trilogy, #1)  £13.99     Two   \n",
              "11                              Shakespeare's Sonnets  £20.66    Four   \n",
              "12                                        Set Me Free  £17.46    Five   \n",
              "13  Scott Pilgrim's Precious Little Life (Scott Pi...  £52.29    Five   \n",
              "14                          Rip it Up and Start Again  £35.02    Five   \n",
              "15  Our Band Could Be Your Life: Scenes from the A...  £57.25   Three   \n",
              "16                                               Olio  £23.88     One   \n",
              "17  Mesaerion: The Best Science Fiction Stories 18...  £37.59     One   \n",
              "18                       Libertarianism for Beginners  £51.33     Two   \n",
              "19                            It's Only the Himalayas  £45.17     Two   \n",
              "\n",
              "                                                 Link  \n",
              "0   http://books.toscrape.com/catalogue/a-light-in...  \n",
              "1   http://books.toscrape.com/catalogue/tipping-th...  \n",
              "2   http://books.toscrape.com/catalogue/soumission...  \n",
              "3   http://books.toscrape.com/catalogue/sharp-obje...  \n",
              "4   http://books.toscrape.com/catalogue/sapiens-a-...  \n",
              "5   http://books.toscrape.com/catalogue/the-requie...  \n",
              "6   http://books.toscrape.com/catalogue/the-dirty-...  \n",
              "7   http://books.toscrape.com/catalogue/the-coming...  \n",
              "8   http://books.toscrape.com/catalogue/the-boys-i...  \n",
              "9   http://books.toscrape.com/catalogue/the-black-...  \n",
              "10  http://books.toscrape.com/catalogue/starving-h...  \n",
              "11  http://books.toscrape.com/catalogue/shakespear...  \n",
              "12  http://books.toscrape.com/catalogue/set-me-fre...  \n",
              "13  http://books.toscrape.com/catalogue/scott-pilg...  \n",
              "14  http://books.toscrape.com/catalogue/rip-it-up-...  \n",
              "15  http://books.toscrape.com/catalogue/our-band-c...  \n",
              "16  http://books.toscrape.com/catalogue/olio_984/i...  \n",
              "17  http://books.toscrape.com/catalogue/mesaerion-...  \n",
              "18  http://books.toscrape.com/catalogue/libertaria...  \n",
              "19  http://books.toscrape.com/catalogue/its-only-t...  "
            ],
            "text/html": [
              "\n",
              "  <div id=\"df-4529b07a-4f06-46be-b197-1bdfbbad14cd\" class=\"colab-df-container\">\n",
              "    <div>\n",
              "<style scoped>\n",
              "    .dataframe tbody tr th:only-of-type {\n",
              "        vertical-align: middle;\n",
              "    }\n",
              "\n",
              "    .dataframe tbody tr th {\n",
              "        vertical-align: top;\n",
              "    }\n",
              "\n",
              "    .dataframe thead th {\n",
              "        text-align: right;\n",
              "    }\n",
              "</style>\n",
              "<table border=\"1\" class=\"dataframe\">\n",
              "  <thead>\n",
              "    <tr style=\"text-align: right;\">\n",
              "      <th></th>\n",
              "      <th>Title</th>\n",
              "      <th>Price</th>\n",
              "      <th>Rating</th>\n",
              "      <th>Link</th>\n",
              "    </tr>\n",
              "  </thead>\n",
              "  <tbody>\n",
              "    <tr>\n",
              "      <th>0</th>\n",
              "      <td>A Light in the Attic</td>\n",
              "      <td>£51.77</td>\n",
              "      <td>Three</td>\n",
              "      <td>http://books.toscrape.com/catalogue/a-light-in...</td>\n",
              "    </tr>\n",
              "    <tr>\n",
              "      <th>1</th>\n",
              "      <td>Tipping the Velvet</td>\n",
              "      <td>£53.74</td>\n",
              "      <td>One</td>\n",
              "      <td>http://books.toscrape.com/catalogue/tipping-th...</td>\n",
              "    </tr>\n",
              "    <tr>\n",
              "      <th>2</th>\n",
              "      <td>Soumission</td>\n",
              "      <td>£50.10</td>\n",
              "      <td>One</td>\n",
              "      <td>http://books.toscrape.com/catalogue/soumission...</td>\n",
              "    </tr>\n",
              "    <tr>\n",
              "      <th>3</th>\n",
              "      <td>Sharp Objects</td>\n",
              "      <td>£47.82</td>\n",
              "      <td>Four</td>\n",
              "      <td>http://books.toscrape.com/catalogue/sharp-obje...</td>\n",
              "    </tr>\n",
              "    <tr>\n",
              "      <th>4</th>\n",
              "      <td>Sapiens: A Brief History of Humankind</td>\n",
              "      <td>£54.23</td>\n",
              "      <td>Five</td>\n",
              "      <td>http://books.toscrape.com/catalogue/sapiens-a-...</td>\n",
              "    </tr>\n",
              "    <tr>\n",
              "      <th>5</th>\n",
              "      <td>The Requiem Red</td>\n",
              "      <td>£22.65</td>\n",
              "      <td>One</td>\n",
              "      <td>http://books.toscrape.com/catalogue/the-requie...</td>\n",
              "    </tr>\n",
              "    <tr>\n",
              "      <th>6</th>\n",
              "      <td>The Dirty Little Secrets of Getting Your Dream...</td>\n",
              "      <td>£33.34</td>\n",
              "      <td>Four</td>\n",
              "      <td>http://books.toscrape.com/catalogue/the-dirty-...</td>\n",
              "    </tr>\n",
              "    <tr>\n",
              "      <th>7</th>\n",
              "      <td>The Coming Woman: A Novel Based on the Life of...</td>\n",
              "      <td>£17.93</td>\n",
              "      <td>Three</td>\n",
              "      <td>http://books.toscrape.com/catalogue/the-coming...</td>\n",
              "    </tr>\n",
              "    <tr>\n",
              "      <th>8</th>\n",
              "      <td>The Boys in the Boat: Nine Americans and Their...</td>\n",
              "      <td>£22.60</td>\n",
              "      <td>Four</td>\n",
              "      <td>http://books.toscrape.com/catalogue/the-boys-i...</td>\n",
              "    </tr>\n",
              "    <tr>\n",
              "      <th>9</th>\n",
              "      <td>The Black Maria</td>\n",
              "      <td>£52.15</td>\n",
              "      <td>One</td>\n",
              "      <td>http://books.toscrape.com/catalogue/the-black-...</td>\n",
              "    </tr>\n",
              "    <tr>\n",
              "      <th>10</th>\n",
              "      <td>Starving Hearts (Triangular Trade Trilogy, #1)</td>\n",
              "      <td>£13.99</td>\n",
              "      <td>Two</td>\n",
              "      <td>http://books.toscrape.com/catalogue/starving-h...</td>\n",
              "    </tr>\n",
              "    <tr>\n",
              "      <th>11</th>\n",
              "      <td>Shakespeare's Sonnets</td>\n",
              "      <td>£20.66</td>\n",
              "      <td>Four</td>\n",
              "      <td>http://books.toscrape.com/catalogue/shakespear...</td>\n",
              "    </tr>\n",
              "    <tr>\n",
              "      <th>12</th>\n",
              "      <td>Set Me Free</td>\n",
              "      <td>£17.46</td>\n",
              "      <td>Five</td>\n",
              "      <td>http://books.toscrape.com/catalogue/set-me-fre...</td>\n",
              "    </tr>\n",
              "    <tr>\n",
              "      <th>13</th>\n",
              "      <td>Scott Pilgrim's Precious Little Life (Scott Pi...</td>\n",
              "      <td>£52.29</td>\n",
              "      <td>Five</td>\n",
              "      <td>http://books.toscrape.com/catalogue/scott-pilg...</td>\n",
              "    </tr>\n",
              "    <tr>\n",
              "      <th>14</th>\n",
              "      <td>Rip it Up and Start Again</td>\n",
              "      <td>£35.02</td>\n",
              "      <td>Five</td>\n",
              "      <td>http://books.toscrape.com/catalogue/rip-it-up-...</td>\n",
              "    </tr>\n",
              "    <tr>\n",
              "      <th>15</th>\n",
              "      <td>Our Band Could Be Your Life: Scenes from the A...</td>\n",
              "      <td>£57.25</td>\n",
              "      <td>Three</td>\n",
              "      <td>http://books.toscrape.com/catalogue/our-band-c...</td>\n",
              "    </tr>\n",
              "    <tr>\n",
              "      <th>16</th>\n",
              "      <td>Olio</td>\n",
              "      <td>£23.88</td>\n",
              "      <td>One</td>\n",
              "      <td>http://books.toscrape.com/catalogue/olio_984/i...</td>\n",
              "    </tr>\n",
              "    <tr>\n",
              "      <th>17</th>\n",
              "      <td>Mesaerion: The Best Science Fiction Stories 18...</td>\n",
              "      <td>£37.59</td>\n",
              "      <td>One</td>\n",
              "      <td>http://books.toscrape.com/catalogue/mesaerion-...</td>\n",
              "    </tr>\n",
              "    <tr>\n",
              "      <th>18</th>\n",
              "      <td>Libertarianism for Beginners</td>\n",
              "      <td>£51.33</td>\n",
              "      <td>Two</td>\n",
              "      <td>http://books.toscrape.com/catalogue/libertaria...</td>\n",
              "    </tr>\n",
              "    <tr>\n",
              "      <th>19</th>\n",
              "      <td>It's Only the Himalayas</td>\n",
              "      <td>£45.17</td>\n",
              "      <td>Two</td>\n",
              "      <td>http://books.toscrape.com/catalogue/its-only-t...</td>\n",
              "    </tr>\n",
              "  </tbody>\n",
              "</table>\n",
              "</div>\n",
              "    <div class=\"colab-df-buttons\">\n",
              "\n",
              "  <div class=\"colab-df-container\">\n",
              "    <button class=\"colab-df-convert\" onclick=\"convertToInteractive('df-4529b07a-4f06-46be-b197-1bdfbbad14cd')\"\n",
              "            title=\"Convert this dataframe to an interactive table.\"\n",
              "            style=\"display:none;\">\n",
              "\n",
              "  <svg xmlns=\"http://www.w3.org/2000/svg\" height=\"24px\" viewBox=\"0 -960 960 960\">\n",
              "    <path d=\"M120-120v-720h720v720H120Zm60-500h600v-160H180v160Zm220 220h160v-160H400v160Zm0 220h160v-160H400v160ZM180-400h160v-160H180v160Zm440 0h160v-160H620v160ZM180-180h160v-160H180v160Zm440 0h160v-160H620v160Z\"/>\n",
              "  </svg>\n",
              "    </button>\n",
              "\n",
              "  <style>\n",
              "    .colab-df-container {\n",
              "      display:flex;\n",
              "      gap: 12px;\n",
              "    }\n",
              "\n",
              "    .colab-df-convert {\n",
              "      background-color: #E8F0FE;\n",
              "      border: none;\n",
              "      border-radius: 50%;\n",
              "      cursor: pointer;\n",
              "      display: none;\n",
              "      fill: #1967D2;\n",
              "      height: 32px;\n",
              "      padding: 0 0 0 0;\n",
              "      width: 32px;\n",
              "    }\n",
              "\n",
              "    .colab-df-convert:hover {\n",
              "      background-color: #E2EBFA;\n",
              "      box-shadow: 0px 1px 2px rgba(60, 64, 67, 0.3), 0px 1px 3px 1px rgba(60, 64, 67, 0.15);\n",
              "      fill: #174EA6;\n",
              "    }\n",
              "\n",
              "    .colab-df-buttons div {\n",
              "      margin-bottom: 4px;\n",
              "    }\n",
              "\n",
              "    [theme=dark] .colab-df-convert {\n",
              "      background-color: #3B4455;\n",
              "      fill: #D2E3FC;\n",
              "    }\n",
              "\n",
              "    [theme=dark] .colab-df-convert:hover {\n",
              "      background-color: #434B5C;\n",
              "      box-shadow: 0px 1px 3px 1px rgba(0, 0, 0, 0.15);\n",
              "      filter: drop-shadow(0px 1px 2px rgba(0, 0, 0, 0.3));\n",
              "      fill: #FFFFFF;\n",
              "    }\n",
              "  </style>\n",
              "\n",
              "    <script>\n",
              "      const buttonEl =\n",
              "        document.querySelector('#df-4529b07a-4f06-46be-b197-1bdfbbad14cd button.colab-df-convert');\n",
              "      buttonEl.style.display =\n",
              "        google.colab.kernel.accessAllowed ? 'block' : 'none';\n",
              "\n",
              "      async function convertToInteractive(key) {\n",
              "        const element = document.querySelector('#df-4529b07a-4f06-46be-b197-1bdfbbad14cd');\n",
              "        const dataTable =\n",
              "          await google.colab.kernel.invokeFunction('convertToInteractive',\n",
              "                                                    [key], {});\n",
              "        if (!dataTable) return;\n",
              "\n",
              "        const docLinkHtml = 'Like what you see? Visit the ' +\n",
              "          '<a target=\"_blank\" href=https://colab.research.google.com/notebooks/data_table.ipynb>data table notebook</a>'\n",
              "          + ' to learn more about interactive tables.';\n",
              "        element.innerHTML = '';\n",
              "        dataTable['output_type'] = 'display_data';\n",
              "        await google.colab.output.renderOutput(dataTable, element);\n",
              "        const docLink = document.createElement('div');\n",
              "        docLink.innerHTML = docLinkHtml;\n",
              "        element.appendChild(docLink);\n",
              "      }\n",
              "    </script>\n",
              "  </div>\n",
              "\n",
              "\n",
              "<div id=\"df-69e938da-77ce-45d1-b63d-74fa0e132ce2\">\n",
              "  <button class=\"colab-df-quickchart\" onclick=\"quickchart('df-69e938da-77ce-45d1-b63d-74fa0e132ce2')\"\n",
              "            title=\"Suggest charts\"\n",
              "            style=\"display:none;\">\n",
              "\n",
              "<svg xmlns=\"http://www.w3.org/2000/svg\" height=\"24px\"viewBox=\"0 0 24 24\"\n",
              "     width=\"24px\">\n",
              "    <g>\n",
              "        <path d=\"M19 3H5c-1.1 0-2 .9-2 2v14c0 1.1.9 2 2 2h14c1.1 0 2-.9 2-2V5c0-1.1-.9-2-2-2zM9 17H7v-7h2v7zm4 0h-2V7h2v10zm4 0h-2v-4h2v4z\"/>\n",
              "    </g>\n",
              "</svg>\n",
              "  </button>\n",
              "\n",
              "<style>\n",
              "  .colab-df-quickchart {\n",
              "      --bg-color: #E8F0FE;\n",
              "      --fill-color: #1967D2;\n",
              "      --hover-bg-color: #E2EBFA;\n",
              "      --hover-fill-color: #174EA6;\n",
              "      --disabled-fill-color: #AAA;\n",
              "      --disabled-bg-color: #DDD;\n",
              "  }\n",
              "\n",
              "  [theme=dark] .colab-df-quickchart {\n",
              "      --bg-color: #3B4455;\n",
              "      --fill-color: #D2E3FC;\n",
              "      --hover-bg-color: #434B5C;\n",
              "      --hover-fill-color: #FFFFFF;\n",
              "      --disabled-bg-color: #3B4455;\n",
              "      --disabled-fill-color: #666;\n",
              "  }\n",
              "\n",
              "  .colab-df-quickchart {\n",
              "    background-color: var(--bg-color);\n",
              "    border: none;\n",
              "    border-radius: 50%;\n",
              "    cursor: pointer;\n",
              "    display: none;\n",
              "    fill: var(--fill-color);\n",
              "    height: 32px;\n",
              "    padding: 0;\n",
              "    width: 32px;\n",
              "  }\n",
              "\n",
              "  .colab-df-quickchart:hover {\n",
              "    background-color: var(--hover-bg-color);\n",
              "    box-shadow: 0 1px 2px rgba(60, 64, 67, 0.3), 0 1px 3px 1px rgba(60, 64, 67, 0.15);\n",
              "    fill: var(--button-hover-fill-color);\n",
              "  }\n",
              "\n",
              "  .colab-df-quickchart-complete:disabled,\n",
              "  .colab-df-quickchart-complete:disabled:hover {\n",
              "    background-color: var(--disabled-bg-color);\n",
              "    fill: var(--disabled-fill-color);\n",
              "    box-shadow: none;\n",
              "  }\n",
              "\n",
              "  .colab-df-spinner {\n",
              "    border: 2px solid var(--fill-color);\n",
              "    border-color: transparent;\n",
              "    border-bottom-color: var(--fill-color);\n",
              "    animation:\n",
              "      spin 1s steps(1) infinite;\n",
              "  }\n",
              "\n",
              "  @keyframes spin {\n",
              "    0% {\n",
              "      border-color: transparent;\n",
              "      border-bottom-color: var(--fill-color);\n",
              "      border-left-color: var(--fill-color);\n",
              "    }\n",
              "    20% {\n",
              "      border-color: transparent;\n",
              "      border-left-color: var(--fill-color);\n",
              "      border-top-color: var(--fill-color);\n",
              "    }\n",
              "    30% {\n",
              "      border-color: transparent;\n",
              "      border-left-color: var(--fill-color);\n",
              "      border-top-color: var(--fill-color);\n",
              "      border-right-color: var(--fill-color);\n",
              "    }\n",
              "    40% {\n",
              "      border-color: transparent;\n",
              "      border-right-color: var(--fill-color);\n",
              "      border-top-color: var(--fill-color);\n",
              "    }\n",
              "    60% {\n",
              "      border-color: transparent;\n",
              "      border-right-color: var(--fill-color);\n",
              "    }\n",
              "    80% {\n",
              "      border-color: transparent;\n",
              "      border-right-color: var(--fill-color);\n",
              "      border-bottom-color: var(--fill-color);\n",
              "    }\n",
              "    90% {\n",
              "      border-color: transparent;\n",
              "      border-bottom-color: var(--fill-color);\n",
              "    }\n",
              "  }\n",
              "</style>\n",
              "\n",
              "  <script>\n",
              "    async function quickchart(key) {\n",
              "      const quickchartButtonEl =\n",
              "        document.querySelector('#' + key + ' button');\n",
              "      quickchartButtonEl.disabled = true;  // To prevent multiple clicks.\n",
              "      quickchartButtonEl.classList.add('colab-df-spinner');\n",
              "      try {\n",
              "        const charts = await google.colab.kernel.invokeFunction(\n",
              "            'suggestCharts', [key], {});\n",
              "      } catch (error) {\n",
              "        console.error('Error during call to suggestCharts:', error);\n",
              "      }\n",
              "      quickchartButtonEl.classList.remove('colab-df-spinner');\n",
              "      quickchartButtonEl.classList.add('colab-df-quickchart-complete');\n",
              "    }\n",
              "    (() => {\n",
              "      let quickchartButtonEl =\n",
              "        document.querySelector('#df-69e938da-77ce-45d1-b63d-74fa0e132ce2 button');\n",
              "      quickchartButtonEl.style.display =\n",
              "        google.colab.kernel.accessAllowed ? 'block' : 'none';\n",
              "    })();\n",
              "  </script>\n",
              "</div>\n",
              "\n",
              "    </div>\n",
              "  </div>\n"
            ]
          },
          "metadata": {},
          "execution_count": 22
        }
      ]
    }
  ]
}