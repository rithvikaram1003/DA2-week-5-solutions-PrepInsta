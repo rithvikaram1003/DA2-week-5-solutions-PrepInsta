{
  "nbformat": 4,
  "nbformat_minor": 0,
  "metadata": {
    "colab": {
      "provenance": []
    },
    "kernelspec": {
      "name": "python3",
      "display_name": "Python 3"
    },
    "language_info": {
      "name": "python"
    }
  },
  "cells": [
    {
      "cell_type": "markdown",
      "source": [
        "SQL Murder Mystery There's been a Murder in SQL City! The SQL Murder Mystery is designed to be both a self-directed lesson to learn SQL concepts and commands and a fun game for experienced SQL users to solve an intriguing crime. A crime has taken place and the detective needs your help. The detective gave you the crime scene report, but you somehow lost it. You vaguely remember that the crime was a ​murder​ that occurred sometime on ​Jan.15, 2018,​ and that it took place in ​SQL City​.\n",
        "\n",
        "Analyze the results of your SQL queries to piece together the sequence of events and identify potential suspects. Conclude the detective challenge by summarising your findings and presenting a compelling case."
      ],
      "metadata": {
        "id": "yM6nz5yOeQe2"
      }
    },
    {
      "cell_type": "code",
      "source": [
        "import sqlite3\n",
        "import pandas as pd\n",
        "import numpy as np\n",
        "con = sqlite3.connect('/content/sample_data/murder-mystery.db')"
      ],
      "metadata": {
        "id": "CSEUPTgOeVmE"
      },
      "execution_count": 6,
      "outputs": []
    },
    {
      "cell_type": "markdown",
      "source": [
        "# 1.  Retrieve Crime Scene Report:\n"
      ],
      "metadata": {
        "id": "RcfYAnXA4Tqs"
      }
    },
    {
      "cell_type": "code",
      "source": [
        "filtered_data = pd.read_sql_query(\"\"\"\n",
        "SELECT *\n",
        "FROM crime_scene_report\"\"\", con)"
      ],
      "metadata": {
        "id": "DKIBGvbHyTzs"
      },
      "execution_count": 7,
      "outputs": []
    },
    {
      "cell_type": "code",
      "source": [
        "filtered_data.head()\n"
      ],
      "metadata": {
        "colab": {
          "base_uri": "https://localhost:8080/",
          "height": 206
        },
        "id": "yaY4DQJ_1CuW",
        "outputId": "1e9f607e-5624-447d-e685-5f8688d815bb"
      },
      "execution_count": 8,
      "outputs": [
        {
          "output_type": "execute_result",
          "data": {
            "text/plain": [
              "       date     type                                        description  \\\n",
              "0  20180115  robbery  A Man Dressed as Spider-Man Is on a Robbery Spree   \n",
              "1  20180115   murder                  Life? Dont talk to me about life.   \n",
              "2  20180115   murder  Mama, I killed a man, put a gun against his he...   \n",
              "3  20180215   murder                         REDACTED REDACTED REDACTED   \n",
              "4  20180215   murder  Someone killed the guard! He took an arrow to ...   \n",
              "\n",
              "       city  \n",
              "0       NYC  \n",
              "1    Albany  \n",
              "2      Reno  \n",
              "3  SQL City  \n",
              "4  SQL City  "
            ],
            "text/html": [
              "\n",
              "  <div id=\"df-e9730ae5-9922-4b49-90e5-4a5211876483\" class=\"colab-df-container\">\n",
              "    <div>\n",
              "<style scoped>\n",
              "    .dataframe tbody tr th:only-of-type {\n",
              "        vertical-align: middle;\n",
              "    }\n",
              "\n",
              "    .dataframe tbody tr th {\n",
              "        vertical-align: top;\n",
              "    }\n",
              "\n",
              "    .dataframe thead th {\n",
              "        text-align: right;\n",
              "    }\n",
              "</style>\n",
              "<table border=\"1\" class=\"dataframe\">\n",
              "  <thead>\n",
              "    <tr style=\"text-align: right;\">\n",
              "      <th></th>\n",
              "      <th>date</th>\n",
              "      <th>type</th>\n",
              "      <th>description</th>\n",
              "      <th>city</th>\n",
              "    </tr>\n",
              "  </thead>\n",
              "  <tbody>\n",
              "    <tr>\n",
              "      <th>0</th>\n",
              "      <td>20180115</td>\n",
              "      <td>robbery</td>\n",
              "      <td>A Man Dressed as Spider-Man Is on a Robbery Spree</td>\n",
              "      <td>NYC</td>\n",
              "    </tr>\n",
              "    <tr>\n",
              "      <th>1</th>\n",
              "      <td>20180115</td>\n",
              "      <td>murder</td>\n",
              "      <td>Life? Dont talk to me about life.</td>\n",
              "      <td>Albany</td>\n",
              "    </tr>\n",
              "    <tr>\n",
              "      <th>2</th>\n",
              "      <td>20180115</td>\n",
              "      <td>murder</td>\n",
              "      <td>Mama, I killed a man, put a gun against his he...</td>\n",
              "      <td>Reno</td>\n",
              "    </tr>\n",
              "    <tr>\n",
              "      <th>3</th>\n",
              "      <td>20180215</td>\n",
              "      <td>murder</td>\n",
              "      <td>REDACTED REDACTED REDACTED</td>\n",
              "      <td>SQL City</td>\n",
              "    </tr>\n",
              "    <tr>\n",
              "      <th>4</th>\n",
              "      <td>20180215</td>\n",
              "      <td>murder</td>\n",
              "      <td>Someone killed the guard! He took an arrow to ...</td>\n",
              "      <td>SQL City</td>\n",
              "    </tr>\n",
              "  </tbody>\n",
              "</table>\n",
              "</div>\n",
              "    <div class=\"colab-df-buttons\">\n",
              "\n",
              "  <div class=\"colab-df-container\">\n",
              "    <button class=\"colab-df-convert\" onclick=\"convertToInteractive('df-e9730ae5-9922-4b49-90e5-4a5211876483')\"\n",
              "            title=\"Convert this dataframe to an interactive table.\"\n",
              "            style=\"display:none;\">\n",
              "\n",
              "  <svg xmlns=\"http://www.w3.org/2000/svg\" height=\"24px\" viewBox=\"0 -960 960 960\">\n",
              "    <path d=\"M120-120v-720h720v720H120Zm60-500h600v-160H180v160Zm220 220h160v-160H400v160Zm0 220h160v-160H400v160ZM180-400h160v-160H180v160Zm440 0h160v-160H620v160ZM180-180h160v-160H180v160Zm440 0h160v-160H620v160Z\"/>\n",
              "  </svg>\n",
              "    </button>\n",
              "\n",
              "  <style>\n",
              "    .colab-df-container {\n",
              "      display:flex;\n",
              "      gap: 12px;\n",
              "    }\n",
              "\n",
              "    .colab-df-convert {\n",
              "      background-color: #E8F0FE;\n",
              "      border: none;\n",
              "      border-radius: 50%;\n",
              "      cursor: pointer;\n",
              "      display: none;\n",
              "      fill: #1967D2;\n",
              "      height: 32px;\n",
              "      padding: 0 0 0 0;\n",
              "      width: 32px;\n",
              "    }\n",
              "\n",
              "    .colab-df-convert:hover {\n",
              "      background-color: #E2EBFA;\n",
              "      box-shadow: 0px 1px 2px rgba(60, 64, 67, 0.3), 0px 1px 3px 1px rgba(60, 64, 67, 0.15);\n",
              "      fill: #174EA6;\n",
              "    }\n",
              "\n",
              "    .colab-df-buttons div {\n",
              "      margin-bottom: 4px;\n",
              "    }\n",
              "\n",
              "    [theme=dark] .colab-df-convert {\n",
              "      background-color: #3B4455;\n",
              "      fill: #D2E3FC;\n",
              "    }\n",
              "\n",
              "    [theme=dark] .colab-df-convert:hover {\n",
              "      background-color: #434B5C;\n",
              "      box-shadow: 0px 1px 3px 1px rgba(0, 0, 0, 0.15);\n",
              "      filter: drop-shadow(0px 1px 2px rgba(0, 0, 0, 0.3));\n",
              "      fill: #FFFFFF;\n",
              "    }\n",
              "  </style>\n",
              "\n",
              "    <script>\n",
              "      const buttonEl =\n",
              "        document.querySelector('#df-e9730ae5-9922-4b49-90e5-4a5211876483 button.colab-df-convert');\n",
              "      buttonEl.style.display =\n",
              "        google.colab.kernel.accessAllowed ? 'block' : 'none';\n",
              "\n",
              "      async function convertToInteractive(key) {\n",
              "        const element = document.querySelector('#df-e9730ae5-9922-4b49-90e5-4a5211876483');\n",
              "        const dataTable =\n",
              "          await google.colab.kernel.invokeFunction('convertToInteractive',\n",
              "                                                    [key], {});\n",
              "        if (!dataTable) return;\n",
              "\n",
              "        const docLinkHtml = 'Like what you see? Visit the ' +\n",
              "          '<a target=\"_blank\" href=https://colab.research.google.com/notebooks/data_table.ipynb>data table notebook</a>'\n",
              "          + ' to learn more about interactive tables.';\n",
              "        element.innerHTML = '';\n",
              "        dataTable['output_type'] = 'display_data';\n",
              "        await google.colab.output.renderOutput(dataTable, element);\n",
              "        const docLink = document.createElement('div');\n",
              "        docLink.innerHTML = docLinkHtml;\n",
              "        element.appendChild(docLink);\n",
              "      }\n",
              "    </script>\n",
              "  </div>\n",
              "\n",
              "\n",
              "<div id=\"df-cbe840a2-6b55-43fd-b9da-9ea1da35c57a\">\n",
              "  <button class=\"colab-df-quickchart\" onclick=\"quickchart('df-cbe840a2-6b55-43fd-b9da-9ea1da35c57a')\"\n",
              "            title=\"Suggest charts\"\n",
              "            style=\"display:none;\">\n",
              "\n",
              "<svg xmlns=\"http://www.w3.org/2000/svg\" height=\"24px\"viewBox=\"0 0 24 24\"\n",
              "     width=\"24px\">\n",
              "    <g>\n",
              "        <path d=\"M19 3H5c-1.1 0-2 .9-2 2v14c0 1.1.9 2 2 2h14c1.1 0 2-.9 2-2V5c0-1.1-.9-2-2-2zM9 17H7v-7h2v7zm4 0h-2V7h2v10zm4 0h-2v-4h2v4z\"/>\n",
              "    </g>\n",
              "</svg>\n",
              "  </button>\n",
              "\n",
              "<style>\n",
              "  .colab-df-quickchart {\n",
              "      --bg-color: #E8F0FE;\n",
              "      --fill-color: #1967D2;\n",
              "      --hover-bg-color: #E2EBFA;\n",
              "      --hover-fill-color: #174EA6;\n",
              "      --disabled-fill-color: #AAA;\n",
              "      --disabled-bg-color: #DDD;\n",
              "  }\n",
              "\n",
              "  [theme=dark] .colab-df-quickchart {\n",
              "      --bg-color: #3B4455;\n",
              "      --fill-color: #D2E3FC;\n",
              "      --hover-bg-color: #434B5C;\n",
              "      --hover-fill-color: #FFFFFF;\n",
              "      --disabled-bg-color: #3B4455;\n",
              "      --disabled-fill-color: #666;\n",
              "  }\n",
              "\n",
              "  .colab-df-quickchart {\n",
              "    background-color: var(--bg-color);\n",
              "    border: none;\n",
              "    border-radius: 50%;\n",
              "    cursor: pointer;\n",
              "    display: none;\n",
              "    fill: var(--fill-color);\n",
              "    height: 32px;\n",
              "    padding: 0;\n",
              "    width: 32px;\n",
              "  }\n",
              "\n",
              "  .colab-df-quickchart:hover {\n",
              "    background-color: var(--hover-bg-color);\n",
              "    box-shadow: 0 1px 2px rgba(60, 64, 67, 0.3), 0 1px 3px 1px rgba(60, 64, 67, 0.15);\n",
              "    fill: var(--button-hover-fill-color);\n",
              "  }\n",
              "\n",
              "  .colab-df-quickchart-complete:disabled,\n",
              "  .colab-df-quickchart-complete:disabled:hover {\n",
              "    background-color: var(--disabled-bg-color);\n",
              "    fill: var(--disabled-fill-color);\n",
              "    box-shadow: none;\n",
              "  }\n",
              "\n",
              "  .colab-df-spinner {\n",
              "    border: 2px solid var(--fill-color);\n",
              "    border-color: transparent;\n",
              "    border-bottom-color: var(--fill-color);\n",
              "    animation:\n",
              "      spin 1s steps(1) infinite;\n",
              "  }\n",
              "\n",
              "  @keyframes spin {\n",
              "    0% {\n",
              "      border-color: transparent;\n",
              "      border-bottom-color: var(--fill-color);\n",
              "      border-left-color: var(--fill-color);\n",
              "    }\n",
              "    20% {\n",
              "      border-color: transparent;\n",
              "      border-left-color: var(--fill-color);\n",
              "      border-top-color: var(--fill-color);\n",
              "    }\n",
              "    30% {\n",
              "      border-color: transparent;\n",
              "      border-left-color: var(--fill-color);\n",
              "      border-top-color: var(--fill-color);\n",
              "      border-right-color: var(--fill-color);\n",
              "    }\n",
              "    40% {\n",
              "      border-color: transparent;\n",
              "      border-right-color: var(--fill-color);\n",
              "      border-top-color: var(--fill-color);\n",
              "    }\n",
              "    60% {\n",
              "      border-color: transparent;\n",
              "      border-right-color: var(--fill-color);\n",
              "    }\n",
              "    80% {\n",
              "      border-color: transparent;\n",
              "      border-right-color: var(--fill-color);\n",
              "      border-bottom-color: var(--fill-color);\n",
              "    }\n",
              "    90% {\n",
              "      border-color: transparent;\n",
              "      border-bottom-color: var(--fill-color);\n",
              "    }\n",
              "  }\n",
              "</style>\n",
              "\n",
              "  <script>\n",
              "    async function quickchart(key) {\n",
              "      const quickchartButtonEl =\n",
              "        document.querySelector('#' + key + ' button');\n",
              "      quickchartButtonEl.disabled = true;  // To prevent multiple clicks.\n",
              "      quickchartButtonEl.classList.add('colab-df-spinner');\n",
              "      try {\n",
              "        const charts = await google.colab.kernel.invokeFunction(\n",
              "            'suggestCharts', [key], {});\n",
              "      } catch (error) {\n",
              "        console.error('Error during call to suggestCharts:', error);\n",
              "      }\n",
              "      quickchartButtonEl.classList.remove('colab-df-spinner');\n",
              "      quickchartButtonEl.classList.add('colab-df-quickchart-complete');\n",
              "    }\n",
              "    (() => {\n",
              "      let quickchartButtonEl =\n",
              "        document.querySelector('#df-cbe840a2-6b55-43fd-b9da-9ea1da35c57a button');\n",
              "      quickchartButtonEl.style.display =\n",
              "        google.colab.kernel.accessAllowed ? 'block' : 'none';\n",
              "    })();\n",
              "  </script>\n",
              "</div>\n",
              "\n",
              "    </div>\n",
              "  </div>\n"
            ]
          },
          "metadata": {},
          "execution_count": 8
        }
      ]
    },
    {
      "cell_type": "code",
      "source": [
        "#Run a query to retrieve the crime scene report for the murder that occurred on Jan.15, 2018, in SQL City.\n",
        "#Gather all available details from the report.\n",
        "\n",
        "filtered_data = pd.read_sql_query(\"\"\"\n",
        "SELECT *\n",
        "FROM crime_scene_report\n",
        "WHERE type = 'murder'\n",
        "  AND date = '20180115'\n",
        "  AND city = 'SQL City';\n",
        "\n",
        "\"\"\", con)"
      ],
      "metadata": {
        "id": "RLOJbzl7wWzs"
      },
      "execution_count": 9,
      "outputs": []
    },
    {
      "cell_type": "code",
      "source": [
        "print(filtered_data.shape)\n",
        "filtered_data.head()"
      ],
      "metadata": {
        "colab": {
          "base_uri": "https://localhost:8080/",
          "height": 98
        },
        "id": "ag-q8cZuxg_e",
        "outputId": "41c2c6d3-b74e-4662-837e-36993927c055"
      },
      "execution_count": 10,
      "outputs": [
        {
          "output_type": "stream",
          "name": "stdout",
          "text": [
            "(1, 4)\n"
          ]
        },
        {
          "output_type": "execute_result",
          "data": {
            "text/plain": [
              "       date    type                                        description  \\\n",
              "0  20180115  murder  Security footage shows that there were 2 witne...   \n",
              "\n",
              "       city  \n",
              "0  SQL City  "
            ],
            "text/html": [
              "\n",
              "  <div id=\"df-ba57d3bc-4f64-4ccd-b9b4-ebaff6f814d7\" class=\"colab-df-container\">\n",
              "    <div>\n",
              "<style scoped>\n",
              "    .dataframe tbody tr th:only-of-type {\n",
              "        vertical-align: middle;\n",
              "    }\n",
              "\n",
              "    .dataframe tbody tr th {\n",
              "        vertical-align: top;\n",
              "    }\n",
              "\n",
              "    .dataframe thead th {\n",
              "        text-align: right;\n",
              "    }\n",
              "</style>\n",
              "<table border=\"1\" class=\"dataframe\">\n",
              "  <thead>\n",
              "    <tr style=\"text-align: right;\">\n",
              "      <th></th>\n",
              "      <th>date</th>\n",
              "      <th>type</th>\n",
              "      <th>description</th>\n",
              "      <th>city</th>\n",
              "    </tr>\n",
              "  </thead>\n",
              "  <tbody>\n",
              "    <tr>\n",
              "      <th>0</th>\n",
              "      <td>20180115</td>\n",
              "      <td>murder</td>\n",
              "      <td>Security footage shows that there were 2 witne...</td>\n",
              "      <td>SQL City</td>\n",
              "    </tr>\n",
              "  </tbody>\n",
              "</table>\n",
              "</div>\n",
              "    <div class=\"colab-df-buttons\">\n",
              "\n",
              "  <div class=\"colab-df-container\">\n",
              "    <button class=\"colab-df-convert\" onclick=\"convertToInteractive('df-ba57d3bc-4f64-4ccd-b9b4-ebaff6f814d7')\"\n",
              "            title=\"Convert this dataframe to an interactive table.\"\n",
              "            style=\"display:none;\">\n",
              "\n",
              "  <svg xmlns=\"http://www.w3.org/2000/svg\" height=\"24px\" viewBox=\"0 -960 960 960\">\n",
              "    <path d=\"M120-120v-720h720v720H120Zm60-500h600v-160H180v160Zm220 220h160v-160H400v160Zm0 220h160v-160H400v160ZM180-400h160v-160H180v160Zm440 0h160v-160H620v160ZM180-180h160v-160H180v160Zm440 0h160v-160H620v160Z\"/>\n",
              "  </svg>\n",
              "    </button>\n",
              "\n",
              "  <style>\n",
              "    .colab-df-container {\n",
              "      display:flex;\n",
              "      gap: 12px;\n",
              "    }\n",
              "\n",
              "    .colab-df-convert {\n",
              "      background-color: #E8F0FE;\n",
              "      border: none;\n",
              "      border-radius: 50%;\n",
              "      cursor: pointer;\n",
              "      display: none;\n",
              "      fill: #1967D2;\n",
              "      height: 32px;\n",
              "      padding: 0 0 0 0;\n",
              "      width: 32px;\n",
              "    }\n",
              "\n",
              "    .colab-df-convert:hover {\n",
              "      background-color: #E2EBFA;\n",
              "      box-shadow: 0px 1px 2px rgba(60, 64, 67, 0.3), 0px 1px 3px 1px rgba(60, 64, 67, 0.15);\n",
              "      fill: #174EA6;\n",
              "    }\n",
              "\n",
              "    .colab-df-buttons div {\n",
              "      margin-bottom: 4px;\n",
              "    }\n",
              "\n",
              "    [theme=dark] .colab-df-convert {\n",
              "      background-color: #3B4455;\n",
              "      fill: #D2E3FC;\n",
              "    }\n",
              "\n",
              "    [theme=dark] .colab-df-convert:hover {\n",
              "      background-color: #434B5C;\n",
              "      box-shadow: 0px 1px 3px 1px rgba(0, 0, 0, 0.15);\n",
              "      filter: drop-shadow(0px 1px 2px rgba(0, 0, 0, 0.3));\n",
              "      fill: #FFFFFF;\n",
              "    }\n",
              "  </style>\n",
              "\n",
              "    <script>\n",
              "      const buttonEl =\n",
              "        document.querySelector('#df-ba57d3bc-4f64-4ccd-b9b4-ebaff6f814d7 button.colab-df-convert');\n",
              "      buttonEl.style.display =\n",
              "        google.colab.kernel.accessAllowed ? 'block' : 'none';\n",
              "\n",
              "      async function convertToInteractive(key) {\n",
              "        const element = document.querySelector('#df-ba57d3bc-4f64-4ccd-b9b4-ebaff6f814d7');\n",
              "        const dataTable =\n",
              "          await google.colab.kernel.invokeFunction('convertToInteractive',\n",
              "                                                    [key], {});\n",
              "        if (!dataTable) return;\n",
              "\n",
              "        const docLinkHtml = 'Like what you see? Visit the ' +\n",
              "          '<a target=\"_blank\" href=https://colab.research.google.com/notebooks/data_table.ipynb>data table notebook</a>'\n",
              "          + ' to learn more about interactive tables.';\n",
              "        element.innerHTML = '';\n",
              "        dataTable['output_type'] = 'display_data';\n",
              "        await google.colab.output.renderOutput(dataTable, element);\n",
              "        const docLink = document.createElement('div');\n",
              "        docLink.innerHTML = docLinkHtml;\n",
              "        element.appendChild(docLink);\n",
              "      }\n",
              "    </script>\n",
              "  </div>\n",
              "\n",
              "\n",
              "    </div>\n",
              "  </div>\n"
            ]
          },
          "metadata": {},
          "execution_count": 10
        }
      ]
    },
    {
      "cell_type": "markdown",
      "source": [
        "# 2. Witness Personal Details:\n",
        "Security footage shows that there were 2 witnesses. The first witness lives at the last house on \"Northwestern Dr\". The second witness, named Annabel, lives somewhere on \"Franklin Ave\"."
      ],
      "metadata": {
        "id": "nHw30f264_LZ"
      }
    },
    {
      "cell_type": "code",
      "source": [
        "#Check the personal details of witnesses involved in the case.\n",
        "#Retrieve their names, addresses, and any other relevant information.\n",
        "\n",
        "filtered_data = pd.read_sql_query(\"\"\"\n",
        "SELECT * FROM person\n",
        "\"\"\", con)"
      ],
      "metadata": {
        "id": "W2F1WtvB1zyT"
      },
      "execution_count": 11,
      "outputs": []
    },
    {
      "cell_type": "code",
      "source": [
        "print(filtered_data.shape)\n",
        "filtered_data.head()"
      ],
      "metadata": {
        "colab": {
          "base_uri": "https://localhost:8080/",
          "height": 224
        },
        "id": "WSy0xn3M4koT",
        "outputId": "a4445f79-f8f5-4923-96c2-5e4d4776dcd0"
      },
      "execution_count": 12,
      "outputs": [
        {
          "output_type": "stream",
          "name": "stdout",
          "text": [
            "(10011, 6)\n"
          ]
        },
        {
          "output_type": "execute_result",
          "data": {
            "text/plain": [
              "      id                 name  license_id  address_number address_street_name  \\\n",
              "0  10000   Christoper Peteuil      993845             624        Bankhall Ave   \n",
              "1  10007  Kourtney Calderwood      861794            2791       Gustavus Blvd   \n",
              "2  10010            Muoi Cary      385336             741     Northwestern Dr   \n",
              "3  10016          Era Moselle      431897            1987       Wood Glade St   \n",
              "4  10025         Trena Hornby      550890             276       Daws Hill Way   \n",
              "\n",
              "         ssn  \n",
              "0  747714076  \n",
              "1  477972044  \n",
              "2  828638512  \n",
              "3  614621061  \n",
              "4  223877684  "
            ],
            "text/html": [
              "\n",
              "  <div id=\"df-bf95879e-985b-4a56-9aa4-8e20df928c91\" class=\"colab-df-container\">\n",
              "    <div>\n",
              "<style scoped>\n",
              "    .dataframe tbody tr th:only-of-type {\n",
              "        vertical-align: middle;\n",
              "    }\n",
              "\n",
              "    .dataframe tbody tr th {\n",
              "        vertical-align: top;\n",
              "    }\n",
              "\n",
              "    .dataframe thead th {\n",
              "        text-align: right;\n",
              "    }\n",
              "</style>\n",
              "<table border=\"1\" class=\"dataframe\">\n",
              "  <thead>\n",
              "    <tr style=\"text-align: right;\">\n",
              "      <th></th>\n",
              "      <th>id</th>\n",
              "      <th>name</th>\n",
              "      <th>license_id</th>\n",
              "      <th>address_number</th>\n",
              "      <th>address_street_name</th>\n",
              "      <th>ssn</th>\n",
              "    </tr>\n",
              "  </thead>\n",
              "  <tbody>\n",
              "    <tr>\n",
              "      <th>0</th>\n",
              "      <td>10000</td>\n",
              "      <td>Christoper Peteuil</td>\n",
              "      <td>993845</td>\n",
              "      <td>624</td>\n",
              "      <td>Bankhall Ave</td>\n",
              "      <td>747714076</td>\n",
              "    </tr>\n",
              "    <tr>\n",
              "      <th>1</th>\n",
              "      <td>10007</td>\n",
              "      <td>Kourtney Calderwood</td>\n",
              "      <td>861794</td>\n",
              "      <td>2791</td>\n",
              "      <td>Gustavus Blvd</td>\n",
              "      <td>477972044</td>\n",
              "    </tr>\n",
              "    <tr>\n",
              "      <th>2</th>\n",
              "      <td>10010</td>\n",
              "      <td>Muoi Cary</td>\n",
              "      <td>385336</td>\n",
              "      <td>741</td>\n",
              "      <td>Northwestern Dr</td>\n",
              "      <td>828638512</td>\n",
              "    </tr>\n",
              "    <tr>\n",
              "      <th>3</th>\n",
              "      <td>10016</td>\n",
              "      <td>Era Moselle</td>\n",
              "      <td>431897</td>\n",
              "      <td>1987</td>\n",
              "      <td>Wood Glade St</td>\n",
              "      <td>614621061</td>\n",
              "    </tr>\n",
              "    <tr>\n",
              "      <th>4</th>\n",
              "      <td>10025</td>\n",
              "      <td>Trena Hornby</td>\n",
              "      <td>550890</td>\n",
              "      <td>276</td>\n",
              "      <td>Daws Hill Way</td>\n",
              "      <td>223877684</td>\n",
              "    </tr>\n",
              "  </tbody>\n",
              "</table>\n",
              "</div>\n",
              "    <div class=\"colab-df-buttons\">\n",
              "\n",
              "  <div class=\"colab-df-container\">\n",
              "    <button class=\"colab-df-convert\" onclick=\"convertToInteractive('df-bf95879e-985b-4a56-9aa4-8e20df928c91')\"\n",
              "            title=\"Convert this dataframe to an interactive table.\"\n",
              "            style=\"display:none;\">\n",
              "\n",
              "  <svg xmlns=\"http://www.w3.org/2000/svg\" height=\"24px\" viewBox=\"0 -960 960 960\">\n",
              "    <path d=\"M120-120v-720h720v720H120Zm60-500h600v-160H180v160Zm220 220h160v-160H400v160Zm0 220h160v-160H400v160ZM180-400h160v-160H180v160Zm440 0h160v-160H620v160ZM180-180h160v-160H180v160Zm440 0h160v-160H620v160Z\"/>\n",
              "  </svg>\n",
              "    </button>\n",
              "\n",
              "  <style>\n",
              "    .colab-df-container {\n",
              "      display:flex;\n",
              "      gap: 12px;\n",
              "    }\n",
              "\n",
              "    .colab-df-convert {\n",
              "      background-color: #E8F0FE;\n",
              "      border: none;\n",
              "      border-radius: 50%;\n",
              "      cursor: pointer;\n",
              "      display: none;\n",
              "      fill: #1967D2;\n",
              "      height: 32px;\n",
              "      padding: 0 0 0 0;\n",
              "      width: 32px;\n",
              "    }\n",
              "\n",
              "    .colab-df-convert:hover {\n",
              "      background-color: #E2EBFA;\n",
              "      box-shadow: 0px 1px 2px rgba(60, 64, 67, 0.3), 0px 1px 3px 1px rgba(60, 64, 67, 0.15);\n",
              "      fill: #174EA6;\n",
              "    }\n",
              "\n",
              "    .colab-df-buttons div {\n",
              "      margin-bottom: 4px;\n",
              "    }\n",
              "\n",
              "    [theme=dark] .colab-df-convert {\n",
              "      background-color: #3B4455;\n",
              "      fill: #D2E3FC;\n",
              "    }\n",
              "\n",
              "    [theme=dark] .colab-df-convert:hover {\n",
              "      background-color: #434B5C;\n",
              "      box-shadow: 0px 1px 3px 1px rgba(0, 0, 0, 0.15);\n",
              "      filter: drop-shadow(0px 1px 2px rgba(0, 0, 0, 0.3));\n",
              "      fill: #FFFFFF;\n",
              "    }\n",
              "  </style>\n",
              "\n",
              "    <script>\n",
              "      const buttonEl =\n",
              "        document.querySelector('#df-bf95879e-985b-4a56-9aa4-8e20df928c91 button.colab-df-convert');\n",
              "      buttonEl.style.display =\n",
              "        google.colab.kernel.accessAllowed ? 'block' : 'none';\n",
              "\n",
              "      async function convertToInteractive(key) {\n",
              "        const element = document.querySelector('#df-bf95879e-985b-4a56-9aa4-8e20df928c91');\n",
              "        const dataTable =\n",
              "          await google.colab.kernel.invokeFunction('convertToInteractive',\n",
              "                                                    [key], {});\n",
              "        if (!dataTable) return;\n",
              "\n",
              "        const docLinkHtml = 'Like what you see? Visit the ' +\n",
              "          '<a target=\"_blank\" href=https://colab.research.google.com/notebooks/data_table.ipynb>data table notebook</a>'\n",
              "          + ' to learn more about interactive tables.';\n",
              "        element.innerHTML = '';\n",
              "        dataTable['output_type'] = 'display_data';\n",
              "        await google.colab.output.renderOutput(dataTable, element);\n",
              "        const docLink = document.createElement('div');\n",
              "        docLink.innerHTML = docLinkHtml;\n",
              "        element.appendChild(docLink);\n",
              "      }\n",
              "    </script>\n",
              "  </div>\n",
              "\n",
              "\n",
              "<div id=\"df-e7cedbc7-fb57-4f23-b033-8bc5ceb2b777\">\n",
              "  <button class=\"colab-df-quickchart\" onclick=\"quickchart('df-e7cedbc7-fb57-4f23-b033-8bc5ceb2b777')\"\n",
              "            title=\"Suggest charts\"\n",
              "            style=\"display:none;\">\n",
              "\n",
              "<svg xmlns=\"http://www.w3.org/2000/svg\" height=\"24px\"viewBox=\"0 0 24 24\"\n",
              "     width=\"24px\">\n",
              "    <g>\n",
              "        <path d=\"M19 3H5c-1.1 0-2 .9-2 2v14c0 1.1.9 2 2 2h14c1.1 0 2-.9 2-2V5c0-1.1-.9-2-2-2zM9 17H7v-7h2v7zm4 0h-2V7h2v10zm4 0h-2v-4h2v4z\"/>\n",
              "    </g>\n",
              "</svg>\n",
              "  </button>\n",
              "\n",
              "<style>\n",
              "  .colab-df-quickchart {\n",
              "      --bg-color: #E8F0FE;\n",
              "      --fill-color: #1967D2;\n",
              "      --hover-bg-color: #E2EBFA;\n",
              "      --hover-fill-color: #174EA6;\n",
              "      --disabled-fill-color: #AAA;\n",
              "      --disabled-bg-color: #DDD;\n",
              "  }\n",
              "\n",
              "  [theme=dark] .colab-df-quickchart {\n",
              "      --bg-color: #3B4455;\n",
              "      --fill-color: #D2E3FC;\n",
              "      --hover-bg-color: #434B5C;\n",
              "      --hover-fill-color: #FFFFFF;\n",
              "      --disabled-bg-color: #3B4455;\n",
              "      --disabled-fill-color: #666;\n",
              "  }\n",
              "\n",
              "  .colab-df-quickchart {\n",
              "    background-color: var(--bg-color);\n",
              "    border: none;\n",
              "    border-radius: 50%;\n",
              "    cursor: pointer;\n",
              "    display: none;\n",
              "    fill: var(--fill-color);\n",
              "    height: 32px;\n",
              "    padding: 0;\n",
              "    width: 32px;\n",
              "  }\n",
              "\n",
              "  .colab-df-quickchart:hover {\n",
              "    background-color: var(--hover-bg-color);\n",
              "    box-shadow: 0 1px 2px rgba(60, 64, 67, 0.3), 0 1px 3px 1px rgba(60, 64, 67, 0.15);\n",
              "    fill: var(--button-hover-fill-color);\n",
              "  }\n",
              "\n",
              "  .colab-df-quickchart-complete:disabled,\n",
              "  .colab-df-quickchart-complete:disabled:hover {\n",
              "    background-color: var(--disabled-bg-color);\n",
              "    fill: var(--disabled-fill-color);\n",
              "    box-shadow: none;\n",
              "  }\n",
              "\n",
              "  .colab-df-spinner {\n",
              "    border: 2px solid var(--fill-color);\n",
              "    border-color: transparent;\n",
              "    border-bottom-color: var(--fill-color);\n",
              "    animation:\n",
              "      spin 1s steps(1) infinite;\n",
              "  }\n",
              "\n",
              "  @keyframes spin {\n",
              "    0% {\n",
              "      border-color: transparent;\n",
              "      border-bottom-color: var(--fill-color);\n",
              "      border-left-color: var(--fill-color);\n",
              "    }\n",
              "    20% {\n",
              "      border-color: transparent;\n",
              "      border-left-color: var(--fill-color);\n",
              "      border-top-color: var(--fill-color);\n",
              "    }\n",
              "    30% {\n",
              "      border-color: transparent;\n",
              "      border-left-color: var(--fill-color);\n",
              "      border-top-color: var(--fill-color);\n",
              "      border-right-color: var(--fill-color);\n",
              "    }\n",
              "    40% {\n",
              "      border-color: transparent;\n",
              "      border-right-color: var(--fill-color);\n",
              "      border-top-color: var(--fill-color);\n",
              "    }\n",
              "    60% {\n",
              "      border-color: transparent;\n",
              "      border-right-color: var(--fill-color);\n",
              "    }\n",
              "    80% {\n",
              "      border-color: transparent;\n",
              "      border-right-color: var(--fill-color);\n",
              "      border-bottom-color: var(--fill-color);\n",
              "    }\n",
              "    90% {\n",
              "      border-color: transparent;\n",
              "      border-bottom-color: var(--fill-color);\n",
              "    }\n",
              "  }\n",
              "</style>\n",
              "\n",
              "  <script>\n",
              "    async function quickchart(key) {\n",
              "      const quickchartButtonEl =\n",
              "        document.querySelector('#' + key + ' button');\n",
              "      quickchartButtonEl.disabled = true;  // To prevent multiple clicks.\n",
              "      quickchartButtonEl.classList.add('colab-df-spinner');\n",
              "      try {\n",
              "        const charts = await google.colab.kernel.invokeFunction(\n",
              "            'suggestCharts', [key], {});\n",
              "      } catch (error) {\n",
              "        console.error('Error during call to suggestCharts:', error);\n",
              "      }\n",
              "      quickchartButtonEl.classList.remove('colab-df-spinner');\n",
              "      quickchartButtonEl.classList.add('colab-df-quickchart-complete');\n",
              "    }\n",
              "    (() => {\n",
              "      let quickchartButtonEl =\n",
              "        document.querySelector('#df-e7cedbc7-fb57-4f23-b033-8bc5ceb2b777 button');\n",
              "      quickchartButtonEl.style.display =\n",
              "        google.colab.kernel.accessAllowed ? 'block' : 'none';\n",
              "    })();\n",
              "  </script>\n",
              "</div>\n",
              "\n",
              "    </div>\n",
              "  </div>\n"
            ]
          },
          "metadata": {},
          "execution_count": 12
        }
      ]
    },
    {
      "cell_type": "code",
      "source": [
        "#  Retrieve details of the first witness\n",
        "filtered_data = pd.read_sql_query(\"\"\"\n",
        "SELECT *\n",
        "FROM person\n",
        "WHERE address_street_name LIKE '%Northwestern Dr%'\n",
        "ORDER BY address_number DESC\n",
        "LIMIT 1;\n",
        "\"\"\", con)\n",
        "print(filtered_data)\n"
      ],
      "metadata": {
        "colab": {
          "base_uri": "https://localhost:8080/"
        },
        "id": "CjeIwJRr42sJ",
        "outputId": "98156421-46de-45f4-804d-3476a9cdae4f"
      },
      "execution_count": 13,
      "outputs": [
        {
          "output_type": "stream",
          "name": "stdout",
          "text": [
            "      id            name  license_id  address_number address_street_name  \\\n",
            "0  14887  Morty Schapiro      118009            4919     Northwestern Dr   \n",
            "\n",
            "         ssn  \n",
            "0  111564949  \n"
          ]
        }
      ]
    },
    {
      "cell_type": "code",
      "source": [
        "# Retrieve details of the second witness named Annabel\n",
        "filtered_data = pd.read_sql_query(\"\"\"SELECT *\n",
        "FROM person\n",
        "WHERE name LIKE '%Annabel%' AND\n",
        "address_street_name LIKE '%Franklin Ave%';\n",
        "\"\"\",con)\n",
        "print(filtered_data)"
      ],
      "metadata": {
        "colab": {
          "base_uri": "https://localhost:8080/"
        },
        "id": "n6gW5-sP5894",
        "outputId": "a22e6408-52d1-4bd3-fc30-fc078e26f6d0"
      },
      "execution_count": 14,
      "outputs": [
        {
          "output_type": "stream",
          "name": "stdout",
          "text": [
            "      id            name  license_id  address_number address_street_name  \\\n",
            "0  16371  Annabel Miller      490173             103        Franklin Ave   \n",
            "\n",
            "         ssn  \n",
            "0  318771143  \n"
          ]
        }
      ]
    },
    {
      "cell_type": "markdown",
      "source": [
        "# 3. View Witness Interviews:\n",
        "Task: Access the recorded interviews of witnesses conducted after the murder. Gather insights into their statements and potential clues.\n"
      ],
      "metadata": {
        "id": "zYlesyKk9VSq"
      }
    },
    {
      "cell_type": "code",
      "source": [
        "filtered_data = pd.read_sql_query(\"\"\"SELECT *\n",
        "FROM interview;\n",
        "\"\"\",con)\n",
        "print(filtered_data)"
      ],
      "metadata": {
        "colab": {
          "base_uri": "https://localhost:8080/"
        },
        "id": "1vIHUUK0-HCc",
        "outputId": "6f206c18-dede-416a-ecd1-c48feb390ff7"
      },
      "execution_count": 15,
      "outputs": [
        {
          "output_type": "stream",
          "name": "stdout",
          "text": [
            "      person_id                                         transcript\n",
            "0         28508                ‘I deny it!’ said the March Hare.\\n\n",
            "1         63713                                                 \\n\n",
            "2         86208      way, and the whole party swam to the shore.\\n\n",
            "3         35267  lessons in here? Why, there’s hardly room for ...\n",
            "4         33856                                                 \\n\n",
            "...         ...                                                ...\n",
            "4986      37357  Alice did not wish to offend the Dormouse agai...\n",
            "4987      10206  time,’ she said, ‘than waste it in asking ridd...\n",
            "4988      14887  I heard a gunshot and then saw a man run out. ...\n",
            "4989      16371  I saw the murder happen, and I recognized the ...\n",
            "4990      67318  I was hired by a woman with a lot of money. I ...\n",
            "\n",
            "[4991 rows x 2 columns]\n"
          ]
        }
      ]
    },
    {
      "cell_type": "code",
      "source": [
        "# Records of first witness\n",
        "witness_1 = pd.read_sql_query(\"\"\"SELECT * from interview\n",
        "WHERE person_id = 14887;\n",
        "\"\"\",con)\n",
        "print(witness_1)"
      ],
      "metadata": {
        "colab": {
          "base_uri": "https://localhost:8080/"
        },
        "id": "IDph3Dmd-VK0",
        "outputId": "399d0cbf-336d-494b-c7c4-5a16e07ee186"
      },
      "execution_count": 16,
      "outputs": [
        {
          "output_type": "stream",
          "name": "stdout",
          "text": [
            "   person_id                                         transcript\n",
            "0      14887  I heard a gunshot and then saw a man run out. ...\n"
          ]
        }
      ]
    },
    {
      "cell_type": "code",
      "source": [
        "# Records of second witness\n",
        "witness_2 = pd.read_sql_query(\"\"\"SELECT * from interview\n",
        "WHERE person_id = 16371;\n",
        "\"\"\",con)\n",
        "print(witness_2)"
      ],
      "metadata": {
        "colab": {
          "base_uri": "https://localhost:8080/"
        },
        "id": "Tb7_Gqhv_JGq",
        "outputId": "92302714-cbd4-4563-97db-0977536cb548"
      },
      "execution_count": 17,
      "outputs": [
        {
          "output_type": "stream",
          "name": "stdout",
          "text": [
            "   person_id                                         transcript\n",
            "0      16371  I saw the murder happen, and I recognized the ...\n"
          ]
        }
      ]
    },
    {
      "cell_type": "markdown",
      "source": [
        "# 4. Check Gym Database:\n",
        "Task: Investigate the gym database using details obtained from the crime scene report and witness interviews. Look for any gym-related information that might be relevant.\n",
        "\n",
        "There are two tables which contains gym related information.\n",
        "1. get_fit_now_member\n",
        "2. get_fit_now_check_in\n",
        "\n",
        "So, we got 2 clues-\n",
        "\n",
        "Killer is a man and a member of the gym with a status of gold and having a membership no. starting with 48Z and left in a car with a no. plate of H42W\n",
        "He was working out in the gym on 9th of Jan\n"
      ],
      "metadata": {
        "id": "lhGFPcDu_bOo"
      }
    },
    {
      "cell_type": "code",
      "source": [
        "filtered_data = pd.read_sql_query(\"\"\"SELECT * from get_fit_now_member;\n",
        "\"\"\",con)\n",
        "print(filtered_data)"
      ],
      "metadata": {
        "colab": {
          "base_uri": "https://localhost:8080/"
        },
        "id": "_dB8jRHBBJbN",
        "outputId": "29f2e4fc-e6c2-4e1c-e9b7-80287052c72d"
      },
      "execution_count": 18,
      "outputs": [
        {
          "output_type": "stream",
          "name": "stdout",
          "text": [
            "        id  person_id                name  membership_start_date  \\\n",
            "0    NL318      65076     Everette Koepke               20170926   \n",
            "1    AOE21      39426        Noe Locascio               20171005   \n",
            "2    2PN28      63823  Jeromy Heitschmidt               20180215   \n",
            "3    0YJ24      80651      Waneta Wellard               20171206   \n",
            "4    3A08L      32858        Mei Bianchin               20170401   \n",
            "..     ...        ...                 ...                    ...   \n",
            "179  2V137      41693      Wendell Dulany               20171219   \n",
            "180  4KB72      79110          Emile Hege               20170522   \n",
            "181  48Z7A      28819        Joe Germuska               20160305   \n",
            "182  48Z55      67318       Jeremy Bowers               20160101   \n",
            "183  90081      16371      Annabel Miller               20160208   \n",
            "\n",
            "    membership_status  \n",
            "0                gold  \n",
            "1             regular  \n",
            "2              silver  \n",
            "3                gold  \n",
            "4              silver  \n",
            "..                ...  \n",
            "179            silver  \n",
            "180           regular  \n",
            "181              gold  \n",
            "182              gold  \n",
            "183              gold  \n",
            "\n",
            "[184 rows x 5 columns]\n"
          ]
        }
      ]
    },
    {
      "cell_type": "code",
      "source": [
        "filtered_data = pd.read_sql_query(\"\"\"SELECT * FROM get_fit_now_check_in;\n",
        "\"\"\",con)\n",
        "print(filtered_data)"
      ],
      "metadata": {
        "colab": {
          "base_uri": "https://localhost:8080/"
        },
        "id": "jL_0FgasDUpv",
        "outputId": "de51e8c7-2d21-4f3a-9b1c-09dbae72b790"
      },
      "execution_count": 19,
      "outputs": [
        {
          "output_type": "stream",
          "name": "stdout",
          "text": [
            "     membership_id  check_in_date  check_in_time  check_out_time\n",
            "0            NL318       20180212            329             365\n",
            "1            NL318       20170811            469             920\n",
            "2            NL318       20180429            506             554\n",
            "3            NL318       20180128            124             759\n",
            "4            NL318       20171027            418            1019\n",
            "...            ...            ...            ...             ...\n",
            "2698         4KB72       20170422           1016            1114\n",
            "2699         4KB72       20170630            408             885\n",
            "2700         48Z7A       20180109           1600            1730\n",
            "2701         48Z55       20180109           1530            1700\n",
            "2702         90081       20180109           1600            1700\n",
            "\n",
            "[2703 rows x 4 columns]\n"
          ]
        }
      ]
    },
    {
      "cell_type": "code",
      "source": [
        "# Using the clues where killer having a membership no. starting with 48Z and working out in the gym on 9th of Jan\n",
        "filtered_data = pd.read_sql_query(\"\"\"SELECT *\n",
        "FROM get_fit_now_check_in\n",
        "WHERE membership_id like \"%48Z%\" AND check_in_date = 20180109\n",
        "order by check_in_date;\n",
        "\"\"\",con)\n",
        "print(filtered_data)"
      ],
      "metadata": {
        "colab": {
          "base_uri": "https://localhost:8080/"
        },
        "id": "wy5lHmt06yVd",
        "outputId": "35edfca2-5519-41ca-a880-5097859b7739"
      },
      "execution_count": 20,
      "outputs": [
        {
          "output_type": "stream",
          "name": "stdout",
          "text": [
            "  membership_id  check_in_date  check_in_time  check_out_time\n",
            "0         48Z7A       20180109           1600            1730\n",
            "1         48Z55       20180109           1530            1700\n"
          ]
        }
      ]
    },
    {
      "cell_type": "code",
      "source": [],
      "metadata": {
        "id": "qDFXL6f_Ziq5"
      },
      "execution_count": 20,
      "outputs": []
    },
    {
      "cell_type": "markdown",
      "source": [
        "# 5. Check Car Details:\n",
        "Task: Examine the car details associated with the crime scene. Retrieve information about the vehicles present during the incident.\n",
        "\n",
        "\n"
      ],
      "metadata": {
        "id": "HShmFMloMXiB"
      }
    },
    {
      "cell_type": "code",
      "source": [
        "filtered_data = pd.read_sql_query(\"\"\"SELECT * from drivers_license;\n",
        "\"\"\",con)\n",
        "print(filtered_data)"
      ],
      "metadata": {
        "colab": {
          "base_uri": "https://localhost:8080/"
        },
        "id": "0lt5nUj1MZfH",
        "outputId": "2563b99b-233a-4dc6-aec3-99fd828827cf"
      },
      "execution_count": 21,
      "outputs": [
        {
          "output_type": "stream",
          "name": "stdout",
          "text": [
            "           id  age  height eye_color hair_color  gender plate_number  \\\n",
            "0      100280   72      57     brown        red    male       P24L4U   \n",
            "1      100460   63      72     brown      brown  female       XF02T6   \n",
            "2      101029   62      74     green      green  female       VKY5KR   \n",
            "3      101198   43      54     amber      brown  female       Y5NZ08   \n",
            "4      101255   18      79      blue       grey  female       5162Z1   \n",
            "...       ...  ...     ...       ...        ...     ...          ...   \n",
            "10002  999923   19      77     amber      black  female       5L0ZI4   \n",
            "10003  999940   71      61     green      green    male       1B8QN8   \n",
            "10004  999981   67      69     brown       blue  female       1684K3   \n",
            "10005  999986   49      58     green       grey    male       F8F64H   \n",
            "10006  999993   18      63     black      black  female       6UZO2O   \n",
            "\n",
            "         car_make    car_model  \n",
            "0           Acura          MDX  \n",
            "1        Cadillac          SRX  \n",
            "2           Scion           xB  \n",
            "3          Nissan        Rogue  \n",
            "4           Lexus           GS  \n",
            "...           ...          ...  \n",
            "10002         GMC  Sierra 3500  \n",
            "10003  Mitsubishi      Eclipse  \n",
            "10004  Land Rover          LR2  \n",
            "10005       Lexus           LS  \n",
            "10006    Cadillac      DeVille  \n",
            "\n",
            "[10007 rows x 9 columns]\n"
          ]
        }
      ]
    },
    {
      "cell_type": "code",
      "source": [
        "# now, let's check the car details by the above details\n",
        "filtered_data = pd.read_sql_query(\"\"\"SELECT *\n",
        "FROM drivers_license\n",
        "WHERE plate_number like \"%H42W%\";\n",
        "\"\"\",con)\n",
        "print(filtered_data)\n"
      ],
      "metadata": {
        "colab": {
          "base_uri": "https://localhost:8080/"
        },
        "id": "jgYuXmOf7fZE",
        "outputId": "ad5246d9-0107-45bd-bd31-64501b3b2548"
      },
      "execution_count": 22,
      "outputs": [
        {
          "output_type": "stream",
          "name": "stdout",
          "text": [
            "       id  age  height eye_color hair_color  gender plate_number   car_make  \\\n",
            "0  183779   21      65      blue     blonde  female       H42W0X     Toyota   \n",
            "1  423327   30      70     brown      brown    male       0H42W2  Chevrolet   \n",
            "2  664760   21      71     black      black    male       4H42WR     Nissan   \n",
            "\n",
            "  car_model  \n",
            "0     Prius  \n",
            "1  Spark LS  \n",
            "2    Altima  \n"
          ]
        }
      ]
    },
    {
      "cell_type": "code",
      "source": [],
      "metadata": {
        "id": "rogE4gsefEUy"
      },
      "execution_count": 22,
      "outputs": []
    },
    {
      "cell_type": "markdown",
      "source": [
        "# 6. Personal Details:\n",
        "Task: Identify and collect personal details mentioned in the previous query. This includes names, addresses, and any additional details.\n",
        "\n",
        "Since the killer is a man who left in a car with a no. plate of H42W. From the above query there are two male with a plate no. containg H42W. Now we have to check their personal details.\n",
        "\n",
        "\n",
        "\n",
        "\n",
        "\n",
        "\n",
        "\n",
        "\n",
        "\n",
        "\n",
        "\n",
        "\n",
        "\n",
        "\n",
        "\n",
        "\n",
        "\n",
        "\n",
        "\n"
      ],
      "metadata": {
        "id": "INIIjuIdQBAm"
      }
    },
    {
      "cell_type": "code",
      "source": [
        "#checking personal details of both the males from the above query\n",
        "filtered_data = pd.read_sql_query(\"\"\"SELECT *\n",
        "FROM person\n",
        "WHERE license_id = \"423327\" OR license_id = \"664760\";\n",
        "\"\"\",con)\n",
        "print(filtered_data)"
      ],
      "metadata": {
        "colab": {
          "base_uri": "https://localhost:8080/"
        },
        "id": "idMSWGud8oC5",
        "outputId": "b7a88efd-7ca0-437b-8d9f-8001893ba118"
      },
      "execution_count": 23,
      "outputs": [
        {
          "output_type": "stream",
          "name": "stdout",
          "text": [
            "      id            name  license_id  address_number    address_street_name  \\\n",
            "0  51739  Tushar Chandra      664760             312                 Phi St   \n",
            "1  67318   Jeremy Bowers      423327             530  Washington Pl, Apt 3A   \n",
            "\n",
            "         ssn  \n",
            "0  137882671  \n",
            "1  871539279  \n"
          ]
        }
      ]
    },
    {
      "cell_type": "code",
      "source": [
        "#lets check which of this two are a member of the gym?\n",
        "filtered_data = pd.read_sql_query(\"\"\"SELECT *\n",
        "FROM get_fit_now_member\n",
        "WHERE person_id = \"51739\" OR person_id = \"67318\";\n",
        "\"\"\",con)\n",
        "print(filtered_data)"
      ],
      "metadata": {
        "colab": {
          "base_uri": "https://localhost:8080/"
        },
        "id": "WHlcI-_e87ig",
        "outputId": "8f90b650-5086-41de-d821-a0c8f1cefe10"
      },
      "execution_count": 24,
      "outputs": [
        {
          "output_type": "stream",
          "name": "stdout",
          "text": [
            "      id  person_id           name  membership_start_date membership_status\n",
            "0  48Z55      67318  Jeremy Bowers               20160101              gold\n"
          ]
        }
      ]
    },
    {
      "cell_type": "markdown",
      "source": [
        "# To find the mastermind behind this mystery"
      ],
      "metadata": {
        "id": "XXFMCo07AVCW"
      }
    },
    {
      "cell_type": "code",
      "source": [
        "#There's more to this, reading the transcript of the murderer\n",
        "filtered_data = pd.read_sql_query(\"\"\"\n",
        "SELECT *\n",
        "FROM interview\n",
        "WHERE person_id = 67318;\n",
        "\"\"\",con)\n",
        "print(filtered_data)"
      ],
      "metadata": {
        "colab": {
          "base_uri": "https://localhost:8080/"
        },
        "id": "lCENERKDAdmN",
        "outputId": "f76778b3-a90d-452d-afa9-2cb44d61b945"
      },
      "execution_count": 25,
      "outputs": [
        {
          "output_type": "stream",
          "name": "stdout",
          "text": [
            "   person_id                                         transcript\n",
            "0      67318  I was hired by a woman with a lot of money. I ...\n"
          ]
        }
      ]
    },
    {
      "cell_type": "markdown",
      "source": [
        "So, the real mastermind is a woman with a Tesla car and red hair. Using the above clues let find out who's the mastermind behind this murder."
      ],
      "metadata": {
        "id": "9_stDXyVAu_z"
      }
    },
    {
      "cell_type": "code",
      "source": [
        "filtered_data = pd.read_sql_query(\"\"\"\n",
        "SELECT *\n",
        "FROM drivers_license\n",
        "WHERE car_make = \"Tesla\" AND car_model = \"Model S\" AND\n",
        "gender = \"female\" AND hair_color = \"red\";\n",
        "\"\"\",con)\n",
        "print(filtered_data)"
      ],
      "metadata": {
        "colab": {
          "base_uri": "https://localhost:8080/"
        },
        "id": "wXdiOjqfAwU6",
        "outputId": "65b7d817-b3e5-42ed-ebcc-acd41621c106"
      },
      "execution_count": 26,
      "outputs": [
        {
          "output_type": "stream",
          "name": "stdout",
          "text": [
            "       id  age  height eye_color hair_color  gender plate_number car_make  \\\n",
            "0  202298   68      66     green        red  female       500123    Tesla   \n",
            "1  291182   65      66      blue        red  female       08CM64    Tesla   \n",
            "2  918773   48      65     black        red  female       917UU3    Tesla   \n",
            "\n",
            "  car_model  \n",
            "0   Model S  \n",
            "1   Model S  \n",
            "2   Model S  \n"
          ]
        }
      ]
    },
    {
      "cell_type": "code",
      "source": [
        "#personal details of the above three woman are:\n",
        "filtered_data = pd.read_sql_query(\"\"\"\n",
        "SELECT *\n",
        "FROM person\n",
        "WHERE license_id = \"202298\" OR license_id = \"291182\" OR license_id = \"918773\";\n",
        "\"\"\",con)\n",
        "print(filtered_data)"
      ],
      "metadata": {
        "colab": {
          "base_uri": "https://localhost:8080/"
        },
        "id": "UH_5gg4DA-_h",
        "outputId": "1abe3d37-168c-41a4-8350-6ccfab62c20c"
      },
      "execution_count": 27,
      "outputs": [
        {
          "output_type": "stream",
          "name": "stdout",
          "text": [
            "      id              name  license_id  address_number address_street_name  \\\n",
            "0  78881          Red Korb      918773             107         Camerata Dr   \n",
            "1  90700     Regina George      291182             332           Maple Ave   \n",
            "2  99716  Miranda Priestly      202298            1883          Golden Ave   \n",
            "\n",
            "         ssn  \n",
            "0  961388910  \n",
            "1  337169072  \n",
            "2  987756388  \n"
          ]
        }
      ]
    },
    {
      "cell_type": "code",
      "source": [
        "# since the women is rich and attended the SQL Symphony Concert\n",
        "filtered_data = pd.read_sql_query(\"\"\"\n",
        "WITH rich_suspects AS (\n",
        "    SELECT person.id AS person_id, name, annual_income\n",
        "    FROM person\n",
        "    LEFT JOIN income ON person.ssn = income.ssn\n",
        "    WHERE license_id = \"202298\" OR license_id = \"291182\" OR license_id = \"918773\"\n",
        "), symphony_attenders AS (\n",
        "    SELECT person_id, COUNT(1) AS n_checkins\n",
        "    FROM facebook_event_checkin\n",
        "    WHERE event_name = 'SQL Symphony Concert'\n",
        "    AND date LIKE '%201712%'\n",
        "    GROUP BY person_id\n",
        "    HAVING n_checkins = 3\n",
        ")\n",
        "SELECT name, annual_income\n",
        "FROM rich_suspects\n",
        "INNER JOIN symphony_attenders ON rich_suspects.person_id = symphony_attenders.person_id;\n",
        "\"\"\", con)\n",
        "print(filtered_data)\n"
      ],
      "metadata": {
        "colab": {
          "base_uri": "https://localhost:8080/"
        },
        "id": "sg82hAQOIj7u",
        "outputId": "86f0ba43-829f-43f4-9c44-5762e269cfc5"
      },
      "execution_count": 28,
      "outputs": [
        {
          "output_type": "stream",
          "name": "stdout",
          "text": [
            "               name  annual_income\n",
            "0  Miranda Priestly         310000\n"
          ]
        }
      ]
    }
  ]
}